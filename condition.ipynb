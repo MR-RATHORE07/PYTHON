{
 "cells": [
  {
   "cell_type": "code",
   "execution_count": 2,
   "id": "97160b62",
   "metadata": {},
   "outputs": [
    {
     "name": "stdout",
     "output_type": "stream",
     "text": [
      "A\n",
      "B\n"
     ]
    }
   ],
   "source": [
    "marks = 85\n",
    "if marks >= 90:\n",
    "    print(\"A+\")\n",
    "if marks >= 80:\n",
    "    print(\"A\")\n",
    "if marks >= 60:\n",
    "    print(\"B\")\n",
    "if marks < 60:\n",
    "    print(\"Fail\")"
   ]
  },
  {
   "cell_type": "code",
   "execution_count": null,
   "id": "b5f305ba",
   "metadata": {},
   "outputs": [
    {
     "name": "stdout",
     "output_type": "stream",
     "text": [
      "A\n"
     ]
    }
   ],
   "source": [
    "marks = 85\n",
    "if marks >= 90:\n",
    "    print(\"A+\")\n",
    "elif marks >= 80:\n",
    "    print(\"A\")\n",
    "elif marks >= 60:\n",
    "    print(\"B\")\n",
    "elif marks < 60:\n",
    "    print(\"Fail\")\n",
    "else:\n",
    "    print(\"Invalid marks\")"
   ]
  },
  {
   "cell_type": "code",
   "execution_count": null,
   "id": "8d857fbd",
   "metadata": {},
   "outputs": [
    {
     "name": "stdout",
     "output_type": "stream",
     "text": [
      "12\n",
      "you're not eligble for vote\n"
     ]
    }
   ],
   "source": [
    "#vote eligibility\n",
    "age = int(input(\"enter a age :\"))\n",
    "print(age)\n",
    "\n",
    "if age >= 18:\n",
    "    print(\"you eligible for vote\")\n",
    "else:\n",
    "    print(\"you're not eligble for vote\")\n"
   ]
  },
  {
   "cell_type": "code",
   "execution_count": 10,
   "id": "4079bd74",
   "metadata": {},
   "outputs": [
    {
     "name": "stdout",
     "output_type": "stream",
     "text": [
      "both side of a rectangle is equal\n"
     ]
    }
   ],
   "source": [
    "# check whether the two side of a rectangle is equal or not.\n",
    "\n",
    "side1 = 8\n",
    "side2 = 8\n",
    "\n",
    "if side1 == side2:\n",
    "    print(\"both side of a rectangle is equal\")\n",
    "else:\n",
    "    print(\"both side are not equal\")"
   ]
  },
  {
   "cell_type": "code",
   "execution_count": 11,
   "id": "ab91646f",
   "metadata": {},
   "outputs": [
    {
     "name": "stdout",
     "output_type": "stream",
     "text": [
      "triangle are not equilateral triangle\n",
      "triangle are iscoceles triangle\n"
     ]
    }
   ],
   "source": [
    "#check whether a triangle is an equilateral triangle or iscoceles triangle.\n",
    "\n",
    "side1 = 8\n",
    "side2 = 8\n",
    "side3 = 9\n",
    "if side1 == side2 and side2 == side3 and side3== side1:\n",
    "    print(\"triangle are equilateral triangle\")\n",
    "else:\n",
    "    print(\"triangle are not equilateral triangle\")\n",
    "\n",
    "if side1 == side2 or side2 == side3 or side3== side1:\n",
    "    print(\"triangle are iscoceles triangle\")\n",
    "else:\n",
    "    print(\"triangle are not iscoceles triangle\")"
   ]
  },
  {
   "cell_type": "code",
   "execution_count": 16,
   "id": "0089f84d",
   "metadata": {},
   "outputs": [
    {
     "name": "stdout",
     "output_type": "stream",
     "text": [
      "7\n",
      "number is odd\n"
     ]
    }
   ],
   "source": [
    "#check whether a number is an even number or odd number.\n",
    "\n",
    "num = int(input(\"enter a num :\"))\n",
    "print(num)\n",
    "\n",
    "if num%2 ==0:\n",
    "    print(\"number is even\")\n",
    "else:\n",
    "    print(\"number is odd\")"
   ]
  },
  {
   "cell_type": "code",
   "execution_count": 27,
   "id": "6673dfee",
   "metadata": {},
   "outputs": [
    {
     "name": "stdout",
     "output_type": "stream",
     "text": [
      "s\n",
      "character entered by user is not vowel\n"
     ]
    }
   ],
   "source": [
    "#check whether a character entered by user is vowel or not.\n",
    "char =(input(\"enter a char\"))\n",
    "print(char)\n",
    "vowels='aeiou'\n",
    "if char in vowels:\n",
    "    print(\"character entered by user is vowel\")\n",
    "else:\n",
    "    print(\"character entered by user is not vowel\")\n"
   ]
  },
  {
   "cell_type": "code",
   "execution_count": 28,
   "id": "77f428bd",
   "metadata": {},
   "outputs": [
    {
     "name": "stdout",
     "output_type": "stream",
     "text": [
      "57500.0\n"
     ]
    }
   ],
   "source": [
    "# Calculate the gross salary of the employee where basic salary is 50,000, TDA is 10% of basic salary and HRA is 5% of the salary.vowels\n",
    "\n",
    "bs = 50000\n",
    "tda = 10/100*50000\n",
    "hra =5/100*50000\n",
    "gs = bs+tda+hra\n",
    "print(gs)"
   ]
  },
  {
   "cell_type": "code",
   "execution_count": null,
   "id": "4c0d943b",
   "metadata": {},
   "outputs": [
    {
     "name": "stdout",
     "output_type": "stream",
     "text": [
      "Registration successfully now😊😊😊\n"
     ]
    }
   ],
   "source": [
    "#nested if\n",
    "\n",
    "username= input(\"Enter a username\")\n",
    "email= input(\"Enter a email\")\n",
    "password= input(\"Enter a password\")\n",
    "cpass= input(\"Enter a password\")\n",
    "if len(username)>5 and len(username)<=20:\n",
    "    if '@' in email and len(email)>10:\n",
    "        if len(password)>=10 and password!=username:\n",
    "            if password==cpass:\n",
    "                print(\"Registration successfully now😊😊😊\")\n",
    "            else:\n",
    "                print(\"password does not match😒\")\n",
    "        else:\n",
    "            print(\"Incorrect password😥😥\")\n",
    "    else:\n",
    "        print(\"Invalid email\")\n",
    "else:\n",
    "    print(\"Invalid username\")"
   ]
  },
  {
   "cell_type": "code",
   "execution_count": 31,
   "id": "ab033dc1",
   "metadata": {},
   "outputs": [
    {
     "name": "stdout",
     "output_type": "stream",
     "text": [
      "number is a prime number\n"
     ]
    }
   ],
   "source": [
    "#check whether a number is prime or not.\n",
    "\n",
    "num=7\n",
    "\n",
    "if num <2:\n",
    "    print(\"not a prime number\")\n",
    "\n",
    "    for i in range(2,num):\n",
    "        if num %i ==0:\n",
    "            print(\"not a prime number\")\n",
    "            break\n",
    "else:\n",
    "    print(\"number is a prime number\")\n"
   ]
  }
 ],
 "metadata": {
  "kernelspec": {
   "display_name": "base",
   "language": "python",
   "name": "python3"
  },
  "language_info": {
   "codemirror_mode": {
    "name": "ipython",
    "version": 3
   },
   "file_extension": ".py",
   "mimetype": "text/x-python",
   "name": "python",
   "nbconvert_exporter": "python",
   "pygments_lexer": "ipython3",
   "version": "3.12.4"
  }
 },
 "nbformat": 4,
 "nbformat_minor": 5
}
